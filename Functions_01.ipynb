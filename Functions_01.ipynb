{
  "nbformat": 4,
  "nbformat_minor": 0,
  "metadata": {
    "colab": {
      "name": "Functions_01.ipynb",
      "version": "0.3.2",
      "provenance": [],
      "toc_visible": true,
      "include_colab_link": true
    },
    "kernelspec": {
      "name": "python3",
      "display_name": "Python 3"
    }
  },
  "cells": [
    {
      "cell_type": "markdown",
      "metadata": {
        "id": "view-in-github",
        "colab_type": "text"
      },
      "source": [
        "<a href=\"https://colab.research.google.com/github/peterdcasey/web/blob/master/Functions_01.ipynb\" target=\"_parent\"><img src=\"https://colab.research.google.com/assets/colab-badge.svg\" alt=\"Open In Colab\"/></a>"
      ]
    },
    {
      "metadata": {
        "id": "hBgPSCtTU-iz",
        "colab_type": "text"
      },
      "cell_type": "markdown",
      "source": [
        "# Introduction to Functions\n",
        "The items below are either a **text** box or a **code** box. You may run the Python code in a code box selecting the code box and pressing the arrow  button\n",
        "<img src=\"https://cdn4.iconfinder.com/data/icons/basic-ui-elements/700/02_play-512.png\" alt=\"Run Arrow\" height=15 width=15/>"
      ]
    },
    {
      "metadata": {
        "id": "jUEcHhwRVIQC",
        "colab_type": "text"
      },
      "cell_type": "markdown",
      "source": [
        "Functions are small units of code that perform a specific task. For example, the Python **max()** function returns the maximum number from a series of numbers passed to the function."
      ]
    },
    {
      "metadata": {
        "id": "nLxGQZhDUrWQ",
        "colab_type": "code",
        "outputId": "feb9c343-7f6b-4835-b107-ca2d9106f03b",
        "colab": {
          "base_uri": "https://localhost:8080/",
          "height": 35
        }
      },
      "cell_type": "code",
      "source": [
        "largest = max(4, 34, 23, 49, 2, 10)\n",
        "print(largest)"
      ],
      "execution_count": 0,
      "outputs": [
        {
          "output_type": "stream",
          "text": [
            "49\n"
          ],
          "name": "stdout"
        }
      ]
    },
    {
      "metadata": {
        "id": "GuHwJvRZVmkl",
        "colab_type": "text"
      },
      "cell_type": "markdown",
      "source": [
        "Another example Python function is the **print()** function. This funtion outputs the value of the items passed to the print function."
      ]
    },
    {
      "metadata": {
        "id": "dnx279BKVyHi",
        "colab_type": "code",
        "outputId": "2bb884b3-047a-4b6c-d30e-81bd63455027",
        "colab": {
          "base_uri": "https://localhost:8080/",
          "height": 72
        }
      },
      "cell_type": "code",
      "source": [
        "print(\"hello world\")\n",
        "print(10 + 34)\n",
        "print(\"The product of 3 and 6 is\", 3 * 6)"
      ],
      "execution_count": 0,
      "outputs": [
        {
          "output_type": "stream",
          "text": [
            "hello world\n",
            "44\n",
            "The product of 3 and 6 is 18\n"
          ],
          "name": "stdout"
        }
      ]
    },
    {
      "metadata": {
        "id": "Y8XynjbVb2bL",
        "colab_type": "text"
      },
      "cell_type": "markdown",
      "source": [
        "Functions are defined in a Pythong program using the following syntax:\n",
        "``` Python\n",
        "def function_name(parameters):\n",
        "    statement\n",
        "    statement\n",
        "    statement\n",
        "    return expression  #return is optional\n",
        "```\n"
      ]
    },
    {
      "metadata": {
        "id": "7sZczYoAcfnY",
        "colab_type": "code",
        "outputId": "a4f816a0-96ba-4d6f-af76-ce280f0a050f",
        "colab": {
          "base_uri": "https://localhost:8080/",
          "height": 35
        }
      },
      "cell_type": "code",
      "source": [
        "# A simple addition function\n",
        "def add_two_numbers(x, y):\n",
        "    answer = x + y\n",
        "    return answer\n",
        "\n",
        "a = 12\n",
        "b = 5\n",
        "result = add_two_numbers(a, b)\n",
        "print(\"Sum of\", a, \"and\", b, \"is\", result)"
      ],
      "execution_count": 0,
      "outputs": [
        {
          "output_type": "stream",
          "text": [
            "Sum of 12 and 5 is 17\n"
          ],
          "name": "stdout"
        }
      ]
    }
  ]
}